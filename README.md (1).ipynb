{
 "cells": [
  {
   "cell_type": "markdown",
   "id": "ae862665",
   "metadata": {},
   "source": [
    "### GRIP@The Sparks Foundation\n",
    "#### Internship- Data science & Business Analyst\n",
    "#### Task 3 : Exploratory Data Analysis Retail\n",
    "#### Problem Statement:As a business manger ,try to find out the weak area where you can work to make more profit.\n"
   ]
  }
 ],
 "metadata": {
  "kernelspec": {
   "display_name": "Python 3 (ipykernel)",
   "language": "python",
   "name": "python3"
  },
  "language_info": {
   "codemirror_mode": {
    "name": "ipython",
    "version": 3
   },
   "file_extension": ".py",
   "mimetype": "text/x-python",
   "name": "python",
   "nbconvert_exporter": "python",
   "pygments_lexer": "ipython3",
   "version": "3.10.9"
  }
 },
 "nbformat": 4,
 "nbformat_minor": 5
}
